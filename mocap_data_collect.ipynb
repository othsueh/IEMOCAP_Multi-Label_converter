{
 "cells": [
  {
   "cell_type": "code",
   "execution_count": 1,
   "metadata": {},
   "outputs": [],
   "source": [
    "# Import library\n",
    "import numpy as np\n",
    "import os\n",
    "import sys\n",
    "from tqdm import tqdm\n",
    "import time\n",
    "import wave\n",
    "import copy\n",
    "import math\n",
    "#import ffmpeg\n",
    "import cv2\n",
    "\n",
    "from sklearn.preprocessing import label_binarize"
   ]
  },
  {
   "cell_type": "code",
   "execution_count": 2,
   "metadata": {},
   "outputs": [],
   "source": [
    "# import function from utils.py\n",
    "from utils import *"
   ]
  },
  {
   "cell_type": "code",
   "execution_count": 3,
   "metadata": {},
   "outputs": [
    {
     "data": {
      "text/plain": [
       "'\\nGeneral configuration for OpenCV 4.10.0 =====================================\\n  Version control:               4.10.0-dirty\\n\\n  Platform:\\n    Timestamp:                   2024-06-17T17:56:37Z\\n    Host:                        Linux 5.15.0-1064-azure x86_64\\n    CMake:                       3.29.5\\n    CMake generator:             Unix Makefiles\\n    CMake build tool:            /bin/gmake\\n    Configuration:               Release\\n\\n  CPU/HW features:\\n    Baseline:                    SSE SSE2 SSE3\\n      requested:                 SSE3\\n    Dispatched code generation:  SSE4_1 SSE4_2 FP16 AVX AVX2 AVX512_SKX\\n      requested:                 SSE4_1 SSE4_2 AVX FP16 AVX2 AVX512_SKX\\n      SSE4_1 (16 files):         + SSSE3 SSE4_1\\n      SSE4_2 (1 files):          + SSSE3 SSE4_1 POPCNT SSE4_2\\n      FP16 (0 files):            + SSSE3 SSE4_1 POPCNT SSE4_2 FP16 AVX\\n      AVX (8 files):             + SSSE3 SSE4_1 POPCNT SSE4_2 AVX\\n      AVX2 (36 files):           + SSSE3 SSE4_1 POPCNT SSE4_2 FP16 FMA3 AVX AVX2\\n      AVX512_SKX (5 files):      + SSSE3 SSE4_1 POPCNT SSE4_2 FP16 FMA3 AVX AVX2 AVX_512F AVX512_COMMON AVX512_SKX\\n\\n  C/C++:\\n    Built as dynamic libs?:      NO\\n    C++ standard:                11\\n    C++ Compiler:                /opt/rh/devtoolset-10/root/usr/bin/c++  (ver 10.2.1)\\n    C++ flags (Release):         -Wl,-strip-all   -fsigned-char -W -Wall -Wreturn-type -Wnon-virtual-dtor -Waddress -Wsequence-point -Wformat -Wformat-security -Wmissing-declarations -Wundef -Winit-self -Wpointer-arith -Wshadow -Wsign-promo -Wuninitialized -Wsuggest-override -Wno-delete-non-virtual-dtor -Wno-comment -Wimplicit-fallthrough=3 -Wno-strict-overflow -fdiagnostics-show-option -Wno-long-long -pthread -fomit-frame-pointer -ffunction-sections -fdata-sections  -msse -msse2 -msse3 -fvisibility=hidden -fvisibility-inlines-hidden -O3 -DNDEBUG  -DNDEBUG\\n    C++ flags (Debug):           -Wl,-strip-all   -fsigned-char -W -Wall -Wreturn-type -Wnon-virtual-dtor -Waddress -Wsequence-point -Wformat -Wformat-security -Wmissing-declarations -Wundef -Winit-self -Wpointer-arith -Wshadow -Wsign-promo -Wuninitialized -Wsuggest-override -Wno-delete-non-virtual-dtor -Wno-comment -Wimplicit-fallthrough=3 -Wno-strict-overflow -fdiagnostics-show-option -Wno-long-long -pthread -fomit-frame-pointer -ffunction-sections -fdata-sections  -msse -msse2 -msse3 -fvisibility=hidden -fvisibility-inlines-hidden -g  -O0 -DDEBUG -D_DEBUG\\n    C Compiler:                  /opt/rh/devtoolset-10/root/usr/bin/cc\\n    C flags (Release):           -Wl,-strip-all   -fsigned-char -W -Wall -Wreturn-type -Waddress -Wsequence-point -Wformat -Wformat-security -Wmissing-declarations -Wmissing-prototypes -Wstrict-prototypes -Wundef -Winit-self -Wpointer-arith -Wshadow -Wuninitialized -Wno-comment -Wimplicit-fallthrough=3 -Wno-strict-overflow -fdiagnostics-show-option -Wno-long-long -pthread -fomit-frame-pointer -ffunction-sections -fdata-sections  -msse -msse2 -msse3 -fvisibility=hidden -O3 -DNDEBUG  -DNDEBUG\\n    C flags (Debug):             -Wl,-strip-all   -fsigned-char -W -Wall -Wreturn-type -Waddress -Wsequence-point -Wformat -Wformat-security -Wmissing-declarations -Wmissing-prototypes -Wstrict-prototypes -Wundef -Winit-self -Wpointer-arith -Wshadow -Wuninitialized -Wno-comment -Wimplicit-fallthrough=3 -Wno-strict-overflow -fdiagnostics-show-option -Wno-long-long -pthread -fomit-frame-pointer -ffunction-sections -fdata-sections  -msse -msse2 -msse3 -fvisibility=hidden -g  -O0 -DDEBUG -D_DEBUG\\n    Linker flags (Release):      -Wl,--exclude-libs,libippicv.a -Wl,--exclude-libs,libippiw.a -L/ffmpeg_build/lib  -Wl,--gc-sections -Wl,--as-needed -Wl,--no-undefined  \\n    Linker flags (Debug):        -Wl,--exclude-libs,libippicv.a -Wl,--exclude-libs,libippiw.a -L/ffmpeg_build/lib  -Wl,--gc-sections -Wl,--as-needed -Wl,--no-undefined  \\n    ccache:                      YES\\n    Precompiled headers:         NO\\n    Extra dependencies:          /lib64/libopenblas.so Qt5::Core Qt5::Gui Qt5::Widgets Qt5::Test Qt5::Concurrent /usr/local/lib/libpng.so /lib64/libz.so dl m pthread rt\\n    3rdparty dependencies:       libprotobuf ade ittnotify libjpeg-turbo libwebp libtiff libopenjp2 IlmImf ippiw ippicv\\n\\n  OpenCV modules:\\n    To be built:                 calib3d core dnn features2d flann gapi highgui imgcodecs imgproc ml objdetect photo python3 stitching video videoio\\n    Disabled:                    world\\n    Disabled by dependency:      -\\n    Unavailable:                 java python2 ts\\n    Applications:                -\\n    Documentation:               NO\\n    Non-free algorithms:         NO\\n\\n  GUI:                           QT5\\n    QT:                          YES (ver 5.15.13 )\\n      QT OpenGL support:         NO\\n    GTK+:                        NO\\n    VTK support:                 NO\\n\\n  Media I/O: \\n    ZLib:                        /lib64/libz.so (ver 1.2.7)\\n    JPEG:                        build-libjpeg-turbo (ver 3.0.3-70)\\n      SIMD Support Request:      YES\\n      SIMD Support:              YES\\n    WEBP:                        build (ver encoder: 0x020f)\\n    PNG:                         /usr/local/lib/libpng.so (ver 1.6.43)\\n    TIFF:                        build (ver 42 - 4.6.0)\\n    JPEG 2000:                   build (ver 2.5.0)\\n    OpenEXR:                     build (ver 2.3.0)\\n    HDR:                         YES\\n    SUNRASTER:                   YES\\n    PXM:                         YES\\n    PFM:                         YES\\n\\n  Video I/O:\\n    DC1394:                      NO\\n    FFMPEG:                      YES\\n      avcodec:                   YES (59.37.100)\\n      avformat:                  YES (59.27.100)\\n      avutil:                    YES (57.28.100)\\n      swscale:                   YES (6.7.100)\\n      avresample:                NO\\n    GStreamer:                   NO\\n    v4l/v4l2:                    YES (linux/videodev2.h)\\n\\n  Parallel framework:            pthreads\\n\\n  Trace:                         YES (with Intel ITT)\\n\\n  Other third-party libraries:\\n    Intel IPP:                   2021.11.0 [2021.11.0]\\n           at:                   /io/_skbuild/linux-x86_64-3.9/cmake-build/3rdparty/ippicv/ippicv_lnx/icv\\n    Intel IPP IW:                sources (2021.11.0)\\n              at:                /io/_skbuild/linux-x86_64-3.9/cmake-build/3rdparty/ippicv/ippicv_lnx/iw\\n    VA:                          NO\\n    Lapack:                      YES (/lib64/libopenblas.so)\\n    Eigen:                       NO\\n    Custom HAL:                  NO\\n    Protobuf:                    build (3.19.1)\\n    Flatbuffers:                 builtin/3rdparty (23.5.9)\\n\\n  OpenCL:                        YES (no extra features)\\n    Include path:                /io/opencv/3rdparty/include/opencl/1.2\\n    Link libraries:              Dynamic load\\n\\n  Python 3:\\n    Interpreter:                 /opt/python/cp39-cp39/bin/python3.9 (ver 3.9.19)\\n    Libraries:                   libpython3.9m.a (ver 3.9.19)\\n    Limited API:                 YES (ver 0x03060000)\\n    numpy:                       /home/ci/.local/lib/python3.9/site-packages/numpy/_core/include (ver 2.0.0)\\n    install path:                python/cv2/python-3\\n\\n  Python (for build):            /opt/python/cp39-cp39/bin/python3.9\\n\\n  Java:                          \\n    ant:                         NO\\n    Java:                        NO\\n    JNI:                         NO\\n    Java wrappers:               NO\\n    Java tests:                  NO\\n\\n  Install to:                    /io/_skbuild/linux-x86_64-3.9/cmake-install\\n-----------------------------------------------------------------\\n\\n'"
      ]
     },
     "execution_count": 3,
     "metadata": {},
     "output_type": "execute_result"
    }
   ],
   "source": [
    "cv2.getBuildInformation()"
   ]
  },
  {
   "cell_type": "code",
   "execution_count": 4,
   "metadata": {},
   "outputs": [
    {
     "name": "stdout",
     "output_type": "stream",
     "text": [
      "Available codecs for OpenCV on this system:\n",
      "Codec DIVX is available.\n",
      "Codec XVID is available.\n",
      "Codec MJPG is available.\n",
      "Codec X264 is available.\n",
      "Codec MP4V is available.\n",
      "Codec H264 is available.\n"
     ]
    }
   ],
   "source": [
    "# List of common codecs to check\n",
    "codecs = ['DIVX', 'XVID', 'MJPG', 'X264', 'MP4V', 'H264']\n",
    "\n",
    "print(\"Available codecs for OpenCV on this system:\")\n",
    "for codec in codecs:\n",
    "    try:\n",
    "        fourcc = cv2.VideoWriter_fourcc(*codec)\n",
    "        if fourcc:\n",
    "            print(f\"Codec {codec} is available.\")\n",
    "    except:\n",
    "        print(f\"Codec {codec} is not available.\")\n"
   ]
  },
  {
   "cell_type": "code",
   "execution_count": 5,
   "metadata": {},
   "outputs": [],
   "source": [
    "data_path = \"../IEMOCAP/\"\n",
    "sessions = ['Session1', 'Session2', 'Session3', 'Session4', 'Session5']\n",
    "framerate = 16000"
   ]
  },
  {
   "cell_type": "code",
   "execution_count": 10,
   "metadata": {},
   "outputs": [],
   "source": [
    "def split_avi(avi, emotions, params=Constants(),batch_size=32):\n",
    "    (framerate, frame_count, width, height), vr = avi\n",
    "\n",
    "    frames_segments = []\n",
    "\n",
    "    for ie, e in enumerate(emotions):\n",
    "        start = e['start']\n",
    "        end = e['end']\n",
    "        id = e['id']\n",
    "        direction = \"right\" if id[5] != id[-4] else \"left\"\n",
    "\n",
    "        # Set crop dimensions based on direction\n",
    "        crop_x = 360 if direction == \"right\" else 0\n",
    "        crop_y, crop_w, crop_h = 120, 360, 240\n",
    "\n",
    "        # Calculate frame indices\n",
    "        start_frame_idx = int(start * framerate)\n",
    "        end_frame_idx = int(end * framerate)\n",
    "        start_frame_idx = max(0, min(start_frame_idx, frame_count - 1))\n",
    "        end_frame_idx = max(0, min(end_frame_idx, frame_count))\n",
    "        if start_frame_idx >= end_frame_idx:\n",
    "            continue\n",
    "        \n",
    "        frames_list = []\n",
    "        # Process in batches\n",
    "        for batch_start in range(start_frame_idx, end_frame_idx, batch_size):\n",
    "            batch_end = min(batch_start + batch_size, end_frame_idx)\n",
    "            frame_indices = list(range(batch_start, batch_end))\n",
    "            \n",
    "            # Read batch\n",
    "            batch_frames = vr.get_batch(frame_indices).asnumpy()\n",
    "            \n",
    "            # Crop entire batch at once\n",
    "            # batch_frames shape is (batch_size, height, width, channels)\n",
    "            batch_frames = batch_frames[:,crop_y:crop_y+crop_h,crop_x:crop_x+crop_w, :]\n",
    "            # Apply color correction to entire batch\n",
    "            processed_frames = []\n",
    "            for frame in batch_frames:\n",
    "                frame = cv2.cvtColor(frame, cv2.COLOR_RGB2BGR)  # Convert RGB to BGR\n",
    "                if direction == \"left\":\n",
    "                    frame = frame.astype(float)\n",
    "                    frame[..., 2] *= 0.77  # Reduce red channel\n",
    "                    frame = np.clip(frame, 0, 255).astype(np.uint8)\n",
    "                processed_frames.append(frame)\n",
    "            \n",
    "            # Convert back to batch format\n",
    "            batch_frames = np.stack(processed_frames)\n",
    "            frames_list.append(batch_frames)\n",
    "        \n",
    "        # Concatenate all batches\n",
    "        if frames_list:\n",
    "            all_frames = np.concatenate(frames_list, axis=0)\n",
    "            frames_segments.append({'frames': all_frames})\n",
    "    del vr\n",
    "    \n",
    "    return frames_segments"
   ]
  },
  {
   "cell_type": "code",
   "execution_count": 11,
   "metadata": {},
   "outputs": [
    {
     "name": "stderr",
     "output_type": "stream",
     "text": [
      "Processing Session1: 100%|██████████████████████████████████████████| 1/1 [00:29<00:00, 29.91s/file]\n"
     ]
    }
   ],
   "source": [
    "# Process first session\n",
    "data = []\n",
    "ids = {}\n",
    "avi_sample = None\n",
    "pbar = tqdm(total=1, unit='file', ncols=100)\n",
    "files = []\n",
    "for session in sessions[:1]: \n",
    "        pbar.set_description(f'Processing {session}')\n",
    "        path_to_avi = data_path + session + '/dialog/avi/DivX/'\n",
    "        path_to_wav = data_path + session + '/dialog/wav/'\n",
    "        path_to_emotions = data_path + session + '/dialog/EmoEvaluation/'\n",
    "        path_to_transcriptions = data_path + session + '/dialog/transcriptions/'\n",
    "\n",
    "        files_ref = os.listdir(path_to_wav)\n",
    "        for f in files_ref: \n",
    "            if f.endswith('.wav'):\n",
    "                files.append(f[:-4])\n",
    "        # if (f== 'Ses05M_script01_1b'):\n",
    "        #     mocap_f = 'Ses05M_script01_1' \n",
    "        \n",
    "        pbar.update(1)"
   ]
  },
  {
   "cell_type": "code",
   "execution_count": null,
   "metadata": {},
   "outputs": [],
   "source": [
    "# Try to split the first file\n",
    "for f in files[:1]:\n",
    "    # wav = get_audio(path_to_wav, f + '.wav')\n",
    "    avi = get_avi(path_to_avi, f + '.avi')\n",
    "    # transcriptions = get_transcriptions(path_to_transcriptions, f + '.txt')\n",
    "    emotions = get_emotions(path_to_emotions, f + '.txt')\n",
    "    # sample = split_wav(wav, emotions)\n",
    "    avi_sample = split_avi(avi, emotions)\n",
    "    print(emotions[17])\n",
    "    break"
   ]
  },
  {
   "cell_type": "code",
   "execution_count": 29,
   "metadata": {},
   "outputs": [
    {
     "data": {
      "text/plain": [
       "103"
      ]
     },
     "execution_count": 29,
     "metadata": {},
     "output_type": "execute_result"
    }
   ],
   "source": [
    "# length of utterance in one video\n",
    "len(avi_sample)"
   ]
  },
  {
   "cell_type": "code",
   "execution_count": null,
   "metadata": {},
   "outputs": [],
   "source": [
    "# Check the shape of the frames and the corresponding emotion of the index\n",
    "i = 102\n",
    "print(avi_sample[i][\"frames\"].shape, emotions[i])"
   ]
  },
  {
   "cell_type": "code",
   "execution_count": null,
   "metadata": {},
   "outputs": [],
   "source": [
    "output_path = 'cropped_video.avi'\n",
    "fourcc = cv2.VideoWriter_fourcc(*'XVID')\n",
    "fps = 29.97\n",
    "out = cv2.VideoWriter(output_path, fourcc, fps, (360, 240))\n",
    "\n",
    "for frame in avi_sample[i][\"frames\"]:\n",
    "    out.write(frame)\n",
    "\n",
    "out.release()"
   ]
  },
  {
   "cell_type": "code",
   "execution_count": 10,
   "metadata": {},
   "outputs": [
    {
     "data": {
      "text/plain": [
       "[{'start': 78.1061,\n",
       "  'end': 87.7428,\n",
       "  'id': 'Ses02F_impro01_F010',\n",
       "  'v': 2.0,\n",
       "  'a': 3.5,\n",
       "  'd': 2.0,\n",
       "  'emotion': 'ang',\n",
       "  'emo_evo': [0.16666666666666666,\n",
       "   0.0,\n",
       "   0.0,\n",
       "   0.16666666666666666,\n",
       "   0.0,\n",
       "   0.6666666666666666,\n",
       "   0.0,\n",
       "   0.0,\n",
       "   0.0,\n",
       "   0.0]},\n",
       " {'start': 88.3022,\n",
       "  'end': 89.9978,\n",
       "  'id': 'Ses02F_impro01_F011',\n",
       "  'v': 2.0,\n",
       "  'a': 4.0,\n",
       "  'd': 3.0,\n",
       "  'emotion': 'ang',\n",
       "  'emo_evo': [0.2, 0.0, 0.0, 0.0, 0.0, 0.8, 0.0, 0.0, 0.0, 0.0]},\n",
       " {'start': 96.4709,\n",
       "  'end': 99.7098,\n",
       "  'id': 'Ses02F_impro01_F012',\n",
       "  'v': 2.0,\n",
       "  'a': 3.5,\n",
       "  'd': 2.5,\n",
       "  'emotion': 'dis',\n",
       "  'emo_evo': [0.0,\n",
       "   0.0,\n",
       "   0.0,\n",
       "   0.0,\n",
       "   0.0,\n",
       "   0.6000000000000001,\n",
       "   0.0,\n",
       "   0.0,\n",
       "   0.2,\n",
       "   0.2]}]"
      ]
     },
     "execution_count": 10,
     "metadata": {},
     "output_type": "execute_result"
    }
   ],
   "source": [
    "# Test get_emotions function\n",
    "get_emotions(path_to_emotions, filename)[10:13]"
   ]
  }
 ],
 "metadata": {
  "kernelspec": {
   "display_name": "karina",
   "language": "python",
   "name": "python3"
  },
  "language_info": {
   "codemirror_mode": {
    "name": "ipython",
    "version": 3
   },
   "file_extension": ".py",
   "mimetype": "text/x-python",
   "name": "python",
   "nbconvert_exporter": "python",
   "pygments_lexer": "ipython3",
   "version": "3.9.20"
  }
 },
 "nbformat": 4,
 "nbformat_minor": 2
}
